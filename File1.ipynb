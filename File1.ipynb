{
 "cells": [
  {
   "cell_type": "code",
   "execution_count": 1,
   "metadata": {},
   "outputs": [
    {
     "name": "stdout",
     "output_type": "stream",
     "text": [
      "Requirement already satisfied: selenium in /Library/Frameworks/Python.framework/Versions/3.11/lib/python3.11/site-packages (4.15.2)\n",
      "Requirement already satisfied: urllib3<3,>=1.26 in /Library/Frameworks/Python.framework/Versions/3.11/lib/python3.11/site-packages (from urllib3[socks]<3,>=1.26->selenium) (2.0.4)\n",
      "Requirement already satisfied: trio~=0.17 in /Library/Frameworks/Python.framework/Versions/3.11/lib/python3.11/site-packages (from selenium) (0.23.1)\n",
      "Requirement already satisfied: trio-websocket~=0.9 in /Library/Frameworks/Python.framework/Versions/3.11/lib/python3.11/site-packages (from selenium) (0.11.1)\n",
      "Requirement already satisfied: certifi>=2021.10.8 in /Library/Frameworks/Python.framework/Versions/3.11/lib/python3.11/site-packages (from selenium) (2023.7.22)\n",
      "Requirement already satisfied: attrs>=20.1.0 in /Library/Frameworks/Python.framework/Versions/3.11/lib/python3.11/site-packages (from trio~=0.17->selenium) (23.1.0)\n",
      "Requirement already satisfied: sortedcontainers in /Library/Frameworks/Python.framework/Versions/3.11/lib/python3.11/site-packages (from trio~=0.17->selenium) (2.4.0)\n",
      "Requirement already satisfied: idna in /Library/Frameworks/Python.framework/Versions/3.11/lib/python3.11/site-packages (from trio~=0.17->selenium) (2.10)\n",
      "Requirement already satisfied: outcome in /Library/Frameworks/Python.framework/Versions/3.11/lib/python3.11/site-packages (from trio~=0.17->selenium) (1.3.0.post0)\n",
      "Requirement already satisfied: sniffio>=1.3.0 in /Library/Frameworks/Python.framework/Versions/3.11/lib/python3.11/site-packages (from trio~=0.17->selenium) (1.3.0)\n",
      "Requirement already satisfied: wsproto>=0.14 in /Library/Frameworks/Python.framework/Versions/3.11/lib/python3.11/site-packages (from trio-websocket~=0.9->selenium) (1.2.0)\n",
      "Requirement already satisfied: pysocks!=1.5.7,<2.0,>=1.5.6 in /Library/Frameworks/Python.framework/Versions/3.11/lib/python3.11/site-packages (from urllib3[socks]<3,>=1.26->selenium) (1.7.1)\n",
      "Requirement already satisfied: h11<1,>=0.9.0 in /Library/Frameworks/Python.framework/Versions/3.11/lib/python3.11/site-packages (from wsproto>=0.14->trio-websocket~=0.9->selenium) (0.9.0)\n",
      "Note: you may need to restart the kernel to use updated packages.\n"
     ]
    }
   ],
   "source": [
    "pip install selenium\n"
   ]
  },
  {
   "cell_type": "code",
   "execution_count": 1,
   "metadata": {},
   "outputs": [],
   "source": [
    "from selenium import webdriver\n",
    "from selenium.webdriver.common.by import By\n",
    "from bs4 import BeautifulSoup\n",
    "import pandas as pd\n",
    "import time\n"
   ]
  },
  {
   "cell_type": "code",
   "execution_count": 4,
   "metadata": {},
   "outputs": [],
   "source": [
    "from selenium import webdriver\n",
    "from selenium.webdriver.common.keys import Keys\n",
    "from selenium.webdriver.common.by import By\n",
    "from IPython.display import display, HTML\n",
    "import pandas as pd\n",
    "\n",
    "from selenium.webdriver.support.ui import WebDriverWait\n",
    "from selenium.webdriver.support import expected_conditions as EC\n",
    "from selenium.common.exceptions import TimeoutException, WebDriverException\n",
    "from selenium.webdriver.common.action_chains import ActionChains\n",
    "import time\n",
    "\n",
    "def extract_brand(sentence):\n",
    "#   ju name extract kar raha osme se first two words are of brand name tu we are extracting that\n",
    "    words = sentence.split()\n",
    "    brand = ' '.join(words[:2])\n",
    "    return brand\n",
    "\n",
    "\n",
    "\n",
    "driver = webdriver.Chrome()\n",
    "driver.get(\"https://www.daraz.pk/\")\n",
    "search_bar = driver.find_element(By.XPATH, '//*[@id=\"q\"]')\n",
    "search_bar.send_keys('Mobile Phones' + Keys.RETURN)\n",
    "driver.implicitly_wait(10)\n",
    "data_list = []\n",
    "\n",
    "\n",
    "def scrape_page():\n",
    "    mobile_phones = driver.find_elements(By.XPATH, '//*[@id=\"root\"]/div/div[3]/div/div/div[1]/div[2]/div[2]/div')\n",
    "    for mobile_phone in mobile_phones:\n",
    "        \n",
    "        name = mobile_phone.find_element(By.XPATH,'//*[@id=\"id-title\"]').text\n",
    "        price = mobile_phone.find_element(By.XPATH, '//*[@id=\"id-price\"]/div/div[1]').text\n",
    "        brand = extract_brand(name)\n",
    "        rating = mobile_phone.find_element(By.XPATH,'//*[@id=\"id-rating\"]/div[1]').text\n",
    "        data_list.append([name,price,brand,rating])\n",
    "\n",
    "# Function to go to the next page\n",
    "def next_page():\n",
    "        try:\n",
    "            next_button_locator = (By.XPATH, '//*[@id=\"root\"]/div/div[3]/div/div/div[1]/div[3]/div[2]/div/ul/li[9]/a')\n",
    "            next_button = WebDriverWait(driver, 40).until(\n",
    "                EC.presence_of_element_located(next_button_locator) and\n",
    "                EC.visibility_of_element_located(next_button_locator)\n",
    "            )\n",
    "            # ccroll into view the element is clickable\n",
    "            driver.execute_script(\"arguments[0].scrollIntoView();\", next_button)\n",
    "            # Move to element and click\n",
    "            ActionChains(driver).move_to_element(next_button).click().perform()\n",
    "\n",
    "            # Wait for the next page to load\n",
    "            time.sleep(40)  \n",
    "\n",
    "            if not next_button.is_enabled():\n",
    "                print(\"Last page reached. Stopping further navigation.\")\n",
    "                return False\n",
    "            return True\n",
    "\n",
    "        except TimeoutException:\n",
    "            print(\"Timeout waiting for the next button to be present and visible.\")\n",
    "            return False\n",
    "        except WebDriverException as e:\n",
    "            print(f\"Error while navigating to the next page: {str(e)}\") \n",
    "            return False\n",
    "   \n",
    "while True:\n",
    "    scrape_page()\n",
    "    if not next_page():\n",
    "     break\n",
    "    \n",
    "column_names = ['Specs','Price','Brand','Ratings']\n",
    "df = pd.DataFrame(data_list, columns=column_names)\n",
    "ef = 'extracted.xlsx'\n",
    "df.to_excel(ef, index=False)\n",
    "driver.quit()\n",
    "display(HTML(df.to_html(escape=False)))\n"
   ]
  },
  {
   "cell_type": "code",
   "execution_count": null,
   "metadata": {},
   "outputs": [],
   "source": []
  }
 ],
 "metadata": {
  "kernelspec": {
   "display_name": "Python 3",
   "language": "python",
   "name": "python3"
  },
  "language_info": {
   "codemirror_mode": {
    "name": "ipython",
    "version": 3
   },
   "file_extension": ".py",
   "mimetype": "text/x-python",
   "name": "python",
   "nbconvert_exporter": "python",
   "pygments_lexer": "ipython3",
   "version": "3.11.4"
  }
 },
 "nbformat": 4,
 "nbformat_minor": 2
}
